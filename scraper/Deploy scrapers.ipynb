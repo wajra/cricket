{
 "cells": [
  {
   "cell_type": "code",
   "execution_count": 1,
   "metadata": {},
   "outputs": [],
   "source": [
    "import urllib.request, urllib.parse, urllib.error\n",
    "from bs4 import BeautifulSoup\n",
    "import ssl\n",
    "import pandas as pd\n",
    "from collections import OrderedDict\n",
    "import re"
   ]
  },
  {
   "cell_type": "code",
   "execution_count": 2,
   "metadata": {},
   "outputs": [],
   "source": [
    "ctx = ssl.create_default_context()\n",
    "ctx.check_hostname = False\n",
    "ctx.verify_mode = ssl.CERT_NONE"
   ]
  },
  {
   "cell_type": "code",
   "execution_count": 3,
   "metadata": {},
   "outputs": [],
   "source": [
    "# Here we will deploy multiple scrapers to get batting statistics on several batsmen"
   ]
  },
  {
   "cell_type": "code",
   "execution_count": 4,
   "metadata": {},
   "outputs": [],
   "source": [
    "legends_names = [\"Ricky Ponting\", \"Sachin Tendulkar\", \"Brian Lara\", \"Jacques Kallis\", \"Inzamam Ul-Haq\",\n",
    "                \"Shivnarine Chanderpaul\", \"Rahul Dravid\"]\n",
    "legends_country = [\"Australia\", \"India\", \"West Indies\", \"South Africa\", \"Pakistan\", \"West Indies\", \"India\"]\n",
    "legends_urls = [\"http://stats.espncricinfo.com/ci/engine/player/7133.html?class=1;template=results;type=batting;view=innings\",\n",
    "               \"http://stats.espncricinfo.com/ci/engine/player/35320.html?class=1;template=results;type=batting;view=innings\",\n",
    "               \"http://stats.espncricinfo.com/ci/engine/player/52337.html?class=1;template=results;type=batting;view=innings\",\n",
    "              \"http://stats.espncricinfo.com/ci/engine/player/45789.html?class=1;template=results;type=batting;view=innings\",\n",
    "              \"http://stats.espncricinfo.com/ci/engine/player/40570.html?class=1;template=results;type=batting;view=innings\",\n",
    "               \"http://stats.espncricinfo.com/ci/engine/player/51469.html?class=1;template=results;type=batting;view=innings\",\n",
    "               \"http://stats.espncricinfo.com/ci/engine/player/28114.html?class=1;template=results;type=batting;view=innings\"]"
   ]
  },
  {
   "cell_type": "code",
   "execution_count": 5,
   "metadata": {},
   "outputs": [
    {
     "name": "stdout",
     "output_type": "stream",
     "text": [
      "Ricky Ponting http://stats.espncricinfo.com/ci/engine/player/7133.html?class=1;template=results;type=batting;view=innings\n",
      "Sachin Tendulkar http://stats.espncricinfo.com/ci/engine/player/35320.html?class=1;template=results;type=batting;view=innings\n",
      "Brian Lara http://stats.espncricinfo.com/ci/engine/player/52337.html?class=1;template=results;type=batting;view=innings\n",
      "Jacques Kallis http://stats.espncricinfo.com/ci/engine/player/45789.html?class=1;template=results;type=batting;view=innings\n",
      "Inzamam Ul-Haq http://stats.espncricinfo.com/ci/engine/player/40570.html?class=1;template=results;type=batting;view=innings\n",
      "Shivnarine Chanderpaul http://stats.espncricinfo.com/ci/engine/player/51469.html?class=1;template=results;type=batting;view=innings\n",
      "Rahul Dravid http://stats.espncricinfo.com/ci/engine/player/28114.html?class=1;template=results;type=batting;view=innings\n"
     ]
    }
   ],
   "source": [
    "for name,url in zip(legends_names, legends_urls):\n",
    "    print(name, url)"
   ]
  },
  {
   "cell_type": "code",
   "execution_count": 6,
   "metadata": {},
   "outputs": [
    {
     "name": "stdout",
     "output_type": "stream",
     "text": [
      "For Ricky Ponting who played for Australia\n",
      "For Sachin Tendulkar who played for India\n",
      "For Brian Lara who played for West Indies\n",
      "For Jacques Kallis who played for South Africa\n",
      "For Inzamam Ul-Haq who played for Pakistan\n",
      "For Shivnarine Chanderpaul who played for West Indies\n",
      "For Rahul Dravid who played for India\n"
     ]
    }
   ],
   "source": [
    "list_of_legends_dicts = []\n",
    "\n",
    "for legend, country, url in zip(legends_names, legends_country, legends_urls):\n",
    "    print(\"For {0} who played for {1}\".format(legend, country))\n",
    "    html = urllib.request.urlopen(url, context=ctx).read()\n",
    "    bs = BeautifulSoup(html, \"lxml\")\n",
    "    table_body = bs.find_all('tbody')\n",
    "    rows = table_body[1].find_all('tr')\n",
    "    temp_data = OrderedDict()\n",
    "    for row in rows:\n",
    "        cols=row.find_all('td')\n",
    "        cols=[x.text.strip() for x in cols]\n",
    "        temp_data=OrderedDict()\n",
    "        for i in range(len(cols)):\n",
    "            temp_data[\"Name\"]=legend\n",
    "            temp_data[\"Country\"]=country\n",
    "            temp_data[\"Runs\"]=cols[0]\n",
    "            temp_data[\"Mins\"]=cols[1]\n",
    "            temp_data[\"BF\"]=cols[2]\n",
    "            temp_data[\"4s\"]=cols[3]\n",
    "            temp_data[\"6s\"]=cols[4]\n",
    "            temp_data[\"SR\"]=cols[5]\n",
    "            temp_data[\"POS\"]=cols[6]\n",
    "            temp_data[\"Dismissal\"]=cols[7]\n",
    "            temp_data[\"Inns\"]=cols[8]\n",
    "            temp_data[\"Opposition\"]=cols[10]\n",
    "            temp_data[\"Ground\"]\t=cols[11]\n",
    "            temp_data[\"Date\"]=cols[12]\n",
    "        list_of_legends_dicts.append(temp_data) "
   ]
  },
  {
   "cell_type": "code",
   "execution_count": 7,
   "metadata": {},
   "outputs": [],
   "source": [
    "legends_df = pd.DataFrame(list_of_legends_dicts)"
   ]
  },
  {
   "cell_type": "code",
   "execution_count": 8,
   "metadata": {},
   "outputs": [],
   "source": [
    "legends_df.to_csv('../data/legends_batting_ver_2.csv')"
   ]
  },
  {
   "cell_type": "code",
   "execution_count": null,
   "metadata": {},
   "outputs": [],
   "source": []
  }
 ],
 "metadata": {
  "kernelspec": {
   "display_name": "Python 3",
   "language": "python",
   "name": "python3"
  },
  "language_info": {
   "codemirror_mode": {
    "name": "ipython",
    "version": 3
   },
   "file_extension": ".py",
   "mimetype": "text/x-python",
   "name": "python",
   "nbconvert_exporter": "python",
   "pygments_lexer": "ipython3",
   "version": "3.7.3"
  }
 },
 "nbformat": 4,
 "nbformat_minor": 2
}
